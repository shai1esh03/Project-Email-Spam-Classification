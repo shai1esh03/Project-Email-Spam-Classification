{
 "cells": [
  {
   "cell_type": "code",
   "execution_count": null,
   "metadata": {},
   "outputs": [],
   "source": [
    "#General library modules\n",
    "import pandas as pd"
   ]
  },
  {
   "cell_type": "code",
   "execution_count": null,
   "metadata": {},
   "outputs": [],
   "source": [
    "#Email procssing libraries\n",
    "import imaplib\n",
    "from imaplib import IMAP4\n",
    "import email"
   ]
  },
  {
   "cell_type": "code",
   "execution_count": null,
   "metadata": {},
   "outputs": [],
   "source": [
    "#Text Processing Libraries\n",
    "import re\n",
    "from bs4 import BeautifulSoup as bs4\n",
    "import chardet"
   ]
  },
  {
   "cell_type": "markdown",
   "metadata": {},
   "source": [
    "EMail Credentials"
   ]
  },
  {
   "cell_type": "code",
   "execution_count": null,
   "metadata": {},
   "outputs": [],
   "source": [
    "print('Gmail and Yahoo Mail services are provided')\n",
    "mservice = input('Select Mail Service : ')\n",
    "imap_user = input('Username : ')\n",
    "imap_pass = input('Password : ')\n",
    "\n",
    "if mservice == 'yahoo':\n",
    "    imap_host = 'imap.mail.yahoo.com'\n",
    "if mservice == 'gmail':\n",
    "    imap_host =  'imap.gmail.com'"
   ]
  },
  {
   "cell_type": "code",
   "execution_count": null,
   "metadata": {},
   "outputs": [],
   "source": [
    "imap = imaplib.IMAP4_SSL(imap_host)\n",
    "imap.login(imap_user, imap_pass)"
   ]
  },
  {
   "cell_type": "code",
   "execution_count": null,
   "metadata": {},
   "outputs": [],
   "source": [
    "print(imap.list())"
   ]
  },
  {
   "cell_type": "code",
   "execution_count": null,
   "metadata": {},
   "outputs": [],
   "source": [
    "mailbox = input('Enter the Mailbox to download : ')\n",
    "imap.select(mailbox)"
   ]
  },
  {
   "cell_type": "code",
   "execution_count": null,
   "metadata": {},
   "outputs": [],
   "source": [
    "typ, data = imap.search(None, 'ALL')\n",
    "mails = data[0].split() #splitting into byte list"
   ]
  },
  {
   "cell_type": "code",
   "execution_count": null,
   "metadata": {},
   "outputs": [],
   "source": [
    "def cleanHtml(soup):\n",
    "    for s in soup(['script', 'style']):\n",
    "            s.decompose()\n",
    "    cleanSoup = ' '.join(soup.stripped_strings)\n",
    "    return cleanSoup"
   ]
  },
  {
   "cell_type": "code",
   "execution_count": null,
   "metadata": {},
   "outputs": [],
   "source": [
    "def extract_msg(emails):\n",
    "\n",
    "    #lists to store Date and email messages\n",
    "    date_list = []\n",
    "    msgText = []\n",
    "\n",
    "    for item in emails:\n",
    "        result2, email_data = imap.fetch(item, '(RFC822)')\n",
    "        raw_email = email_data[0][1].decode('latin1')\n",
    "        email_msg = email.message_from_string(raw_email)\n",
    "    \n",
    "        if email_msg.is_multipart(): \n",
    "            html = None\n",
    "            for part in email_msg.get_payload():\n",
    "                if part.get_content_type() == 'text/plain':\n",
    "                    text = str(part.get_payload(decode=True),str('latin1'),\"ignore\").encode('utf8','replace')\n",
    "            \n",
    "                if part.get_content_type() == 'text/html':\n",
    "                    soup = bs4(str(part.get_payload(decode=True),str('latin1'),\"ignore\").encode('utf8','replace'), 'lxml')\n",
    "                    html = cleanHtml(soup)\n",
    "            \n",
    "                if part.get_content_type() == 'multipart/alternative':\n",
    "                    for subpart in part.get_payload():\n",
    "                        if subpart.get_content_charset() is None:\n",
    "                            charset = chardet.detect(bytes(subpart))['encoding']\n",
    "                        else:\n",
    "                            charset = subpart.get_content_charset()\n",
    "\n",
    "                    if subpart.get_content_type() == 'text/plain':\n",
    "                        text = str(subpart.get_payload(decode=True),str('latin1'),\"ignore\").encode('utf8','replace')\n",
    "\n",
    "                    if subpart.get_content_type() == 'text/html':\n",
    "                        soup = bs4(str(subpart.get_payload(decode=True),str('latin1'),\"ignore\").encode('utf8','replace'), 'lxml')\n",
    "                        html = cleanHtml(soup)\n",
    "\n",
    "            if html is None:\n",
    "                text.strip()\n",
    "                msgText.append(text)\n",
    "            else:\n",
    "                html.strip()\n",
    "                msgText.append(html)\n",
    "        else:\n",
    "            if email_msg.get_content_charset() is None:\n",
    "                charset = chardet.detect(bytes(email_msg))['encoding']\n",
    "            else:\n",
    "                charset = email_msg.get_content_charset()\n",
    "            text = bs4(str(email_msg.get_payload(decode=True), str('latin1'),'ignore').encode('utf8','replace'), 'lxml')\n",
    "            text = cleanHtml(text)\n",
    "            text.strip()\n",
    "            msgText.append(text)\n",
    "    imap.close()\n",
    "    imap.logout()\n",
    "    return msgText"
   ]
  },
  {
   "cell_type": "code",
   "execution_count": null,
   "metadata": {},
   "outputs": [],
   "source": [
    "mail = extract_msg(mails)"
   ]
  },
  {
   "cell_type": "code",
   "execution_count": null,
   "metadata": {},
   "outputs": [],
   "source": [
    " # creating pandas dataframe\n",
    "filename = mailbox+'.csv'\n",
    "df = pd.DataFrame(mail).T \n",
    "df.to_csv(filename, mode='a', index=False) "
   ]
  }
 ],
 "metadata": {
  "kernelspec": {
   "display_name": "Python 3",
   "language": "python",
   "name": "python3"
  },
  "language_info": {
   "codemirror_mode": {
    "name": "ipython",
    "version": 3
   },
   "file_extension": ".py",
   "mimetype": "text/x-python",
   "name": "python",
   "nbconvert_exporter": "python",
   "pygments_lexer": "ipython3",
   "version": "3.7.8"
  }
 },
 "nbformat": 4,
 "nbformat_minor": 4
}
