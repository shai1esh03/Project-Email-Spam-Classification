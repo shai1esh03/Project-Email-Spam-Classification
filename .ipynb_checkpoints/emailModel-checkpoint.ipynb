{
 "cells": [
  {
   "cell_type": "code",
   "execution_count": 1,
   "metadata": {},
   "outputs": [],
   "source": [
    "import pandas as pd\n",
    "import numpy as np\n",
    "import re"
   ]
  },
  {
   "cell_type": "code",
   "execution_count": 2,
   "metadata": {},
   "outputs": [],
   "source": [
    "from nltk.stem import WordNetLemmatizer\n",
    "from nltk.corpus import stopwords\n",
    "\n",
    "from sklearn.model_selection import train_test_split\n",
    "from sklearn.pipeline import Pipeline\n",
    "\n",
    "from sklearn.naive_bayes import MultinomialNB\n",
    "from sklearn.feature_extraction.text import CountVectorizer\n",
    "from sklearn.feature_extraction.text import TfidfVectorizer\n",
    "\n",
    "from sklearn import metrics\n",
    "from sklearn.model_selection import cross_val_score"
   ]
  },
  {
   "cell_type": "code",
   "execution_count": 3,
   "metadata": {},
   "outputs": [],
   "source": [
    "mail = pd.read_csv('mail.csv', index_col=None)"
   ]
  },
  {
   "cell_type": "code",
   "execution_count": 4,
   "metadata": {},
   "outputs": [
    {
     "data": {
      "text/html": [
       "<div>\n",
       "<style scoped>\n",
       "    .dataframe tbody tr th:only-of-type {\n",
       "        vertical-align: middle;\n",
       "    }\n",
       "\n",
       "    .dataframe tbody tr th {\n",
       "        vertical-align: top;\n",
       "    }\n",
       "\n",
       "    .dataframe thead th {\n",
       "        text-align: right;\n",
       "    }\n",
       "</style>\n",
       "<table border=\"1\" class=\"dataframe\">\n",
       "  <thead>\n",
       "    <tr style=\"text-align: right;\">\n",
       "      <th></th>\n",
       "      <th>Unnamed: 0</th>\n",
       "      <th>labels</th>\n",
       "      <th>clean</th>\n",
       "    </tr>\n",
       "  </thead>\n",
       "  <tbody>\n",
       "    <tr>\n",
       "      <th>0</th>\n",
       "      <td>0</td>\n",
       "      <td>0</td>\n",
       "      <td>['', 'date', 'wed', '21', 'aug', '2002', '10',...</td>\n",
       "    </tr>\n",
       "    <tr>\n",
       "      <th>1</th>\n",
       "      <td>1</td>\n",
       "      <td>0</td>\n",
       "      <td>['', 'martin', 'posted', 'ntassos', 'papadopou...</td>\n",
       "    </tr>\n",
       "    <tr>\n",
       "      <th>2</th>\n",
       "      <td>2</td>\n",
       "      <td>0</td>\n",
       "      <td>['', 'man', 'threatens', 'explosion', 'moscow'...</td>\n",
       "    </tr>\n",
       "    <tr>\n",
       "      <th>3</th>\n",
       "      <td>3</td>\n",
       "      <td>0</td>\n",
       "      <td>['', 'klez', 'virus', 'die', 'nalready', 'prol...</td>\n",
       "    </tr>\n",
       "    <tr>\n",
       "      <th>4</th>\n",
       "      <td>4</td>\n",
       "      <td>0</td>\n",
       "      <td>['', 'wed', 'aug', '21', '2002', '15', '46', '...</td>\n",
       "    </tr>\n",
       "  </tbody>\n",
       "</table>\n",
       "</div>"
      ],
      "text/plain": [
       "   Unnamed: 0  labels                                              clean\n",
       "0           0       0  ['', 'date', 'wed', '21', 'aug', '2002', '10',...\n",
       "1           1       0  ['', 'martin', 'posted', 'ntassos', 'papadopou...\n",
       "2           2       0  ['', 'man', 'threatens', 'explosion', 'moscow'...\n",
       "3           3       0  ['', 'klez', 'virus', 'die', 'nalready', 'prol...\n",
       "4           4       0  ['', 'wed', 'aug', '21', '2002', '15', '46', '..."
      ]
     },
     "execution_count": 4,
     "metadata": {},
     "output_type": "execute_result"
    }
   ],
   "source": [
    "mail.head()"
   ]
  },
  {
   "cell_type": "code",
   "execution_count": 5,
   "metadata": {},
   "outputs": [],
   "source": [
    "mail.drop('Unnamed: 0', axis=1, inplace =True)"
   ]
  },
  {
   "cell_type": "code",
   "execution_count": 6,
   "metadata": {},
   "outputs": [
    {
     "name": "stdout",
     "output_type": "stream",
     "text": [
      "<class 'pandas.core.frame.DataFrame'>\n",
      "RangeIndex: 3051 entries, 0 to 3050\n",
      "Data columns (total 2 columns):\n",
      " #   Column  Non-Null Count  Dtype \n",
      "---  ------  --------------  ----- \n",
      " 0   labels  3051 non-null   int64 \n",
      " 1   clean   3051 non-null   object\n",
      "dtypes: int64(1), object(1)\n",
      "memory usage: 47.8+ KB\n"
     ]
    }
   ],
   "source": [
    "mail.info()"
   ]
  },
  {
   "cell_type": "code",
   "execution_count": 7,
   "metadata": {},
   "outputs": [
    {
     "data": {
      "text/html": [
       "<div>\n",
       "<style scoped>\n",
       "    .dataframe tbody tr th:only-of-type {\n",
       "        vertical-align: middle;\n",
       "    }\n",
       "\n",
       "    .dataframe tbody tr th {\n",
       "        vertical-align: top;\n",
       "    }\n",
       "\n",
       "    .dataframe thead th {\n",
       "        text-align: right;\n",
       "    }\n",
       "</style>\n",
       "<table border=\"1\" class=\"dataframe\">\n",
       "  <thead>\n",
       "    <tr style=\"text-align: right;\">\n",
       "      <th></th>\n",
       "      <th>labels</th>\n",
       "    </tr>\n",
       "  </thead>\n",
       "  <tbody>\n",
       "    <tr>\n",
       "      <th>count</th>\n",
       "      <td>3051.000000</td>\n",
       "    </tr>\n",
       "    <tr>\n",
       "      <th>mean</th>\n",
       "      <td>0.163881</td>\n",
       "    </tr>\n",
       "    <tr>\n",
       "      <th>std</th>\n",
       "      <td>0.370228</td>\n",
       "    </tr>\n",
       "    <tr>\n",
       "      <th>min</th>\n",
       "      <td>0.000000</td>\n",
       "    </tr>\n",
       "    <tr>\n",
       "      <th>25%</th>\n",
       "      <td>0.000000</td>\n",
       "    </tr>\n",
       "    <tr>\n",
       "      <th>50%</th>\n",
       "      <td>0.000000</td>\n",
       "    </tr>\n",
       "    <tr>\n",
       "      <th>75%</th>\n",
       "      <td>0.000000</td>\n",
       "    </tr>\n",
       "    <tr>\n",
       "      <th>max</th>\n",
       "      <td>1.000000</td>\n",
       "    </tr>\n",
       "  </tbody>\n",
       "</table>\n",
       "</div>"
      ],
      "text/plain": [
       "            labels\n",
       "count  3051.000000\n",
       "mean      0.163881\n",
       "std       0.370228\n",
       "min       0.000000\n",
       "25%       0.000000\n",
       "50%       0.000000\n",
       "75%       0.000000\n",
       "max       1.000000"
      ]
     },
     "execution_count": 7,
     "metadata": {},
     "output_type": "execute_result"
    }
   ],
   "source": [
    "mail.describe()"
   ]
  },
  {
   "cell_type": "markdown",
   "metadata": {},
   "source": [
    "### Clean Text with stemming/Lemmatizing"
   ]
  },
  {
   "cell_type": "code",
   "execution_count": 8,
   "metadata": {},
   "outputs": [],
   "source": [
    "wn = WordNetLemmatizer()"
   ]
  },
  {
   "cell_type": "code",
   "execution_count": 9,
   "metadata": {},
   "outputs": [],
   "source": [
    "stopword = stopwords.words('english')"
   ]
  },
  {
   "cell_type": "code",
   "execution_count": 10,
   "metadata": {},
   "outputs": [],
   "source": [
    "mail['clean1'] = mail['clean'].apply(lambda x: \" \".join([wn.lemmatize(i).lower() for i in re.sub('[^a-zA-Z0-9]',' ',x).split() if i not in stopword]))"
   ]
  },
  {
   "cell_type": "code",
   "execution_count": 11,
   "metadata": {},
   "outputs": [
    {
     "data": {
      "text/html": [
       "<div>\n",
       "<style scoped>\n",
       "    .dataframe tbody tr th:only-of-type {\n",
       "        vertical-align: middle;\n",
       "    }\n",
       "\n",
       "    .dataframe tbody tr th {\n",
       "        vertical-align: top;\n",
       "    }\n",
       "\n",
       "    .dataframe thead th {\n",
       "        text-align: right;\n",
       "    }\n",
       "</style>\n",
       "<table border=\"1\" class=\"dataframe\">\n",
       "  <thead>\n",
       "    <tr style=\"text-align: right;\">\n",
       "      <th></th>\n",
       "      <th>labels</th>\n",
       "      <th>clean</th>\n",
       "      <th>clean1</th>\n",
       "    </tr>\n",
       "  </thead>\n",
       "  <tbody>\n",
       "    <tr>\n",
       "      <th>0</th>\n",
       "      <td>0</td>\n",
       "      <td>['', 'date', 'wed', '21', 'aug', '2002', '10',...</td>\n",
       "      <td>date wed 21 aug 2002 10 54 46 0500 chris garri...</td>\n",
       "    </tr>\n",
       "    <tr>\n",
       "      <th>1</th>\n",
       "      <td>0</td>\n",
       "      <td>['', 'martin', 'posted', 'ntassos', 'papadopou...</td>\n",
       "      <td>martin posted ntassos papadopoulos greek sculp...</td>\n",
       "    </tr>\n",
       "    <tr>\n",
       "      <th>2</th>\n",
       "      <td>0</td>\n",
       "      <td>['', 'man', 'threatens', 'explosion', 'moscow'...</td>\n",
       "      <td>man threatens explosion moscow nthursday augus...</td>\n",
       "    </tr>\n",
       "    <tr>\n",
       "      <th>3</th>\n",
       "      <td>0</td>\n",
       "      <td>['', 'klez', 'virus', 'die', 'nalready', 'prol...</td>\n",
       "      <td>klez virus die nalready prolific virus ever kl...</td>\n",
       "    </tr>\n",
       "    <tr>\n",
       "      <th>4</th>\n",
       "      <td>0</td>\n",
       "      <td>['', 'wed', 'aug', '21', '2002', '15', '46', '...</td>\n",
       "      <td>wed aug 21 2002 15 46 ulises ponce wrote hi co...</td>\n",
       "    </tr>\n",
       "    <tr>\n",
       "      <th>...</th>\n",
       "      <td>...</td>\n",
       "      <td>...</td>\n",
       "      <td>...</td>\n",
       "    </tr>\n",
       "    <tr>\n",
       "      <th>3046</th>\n",
       "      <td>1</td>\n",
       "      <td>['', 'stumbling', 'nthe', 'greatest', 'way', '...</td>\n",
       "      <td>stumbling nthe greatest way marketing century ...</td>\n",
       "    </tr>\n",
       "    <tr>\n",
       "      <th>3047</th>\n",
       "      <td>1</td>\n",
       "      <td>['', 'mean', 'made', 'usa', 'cna', 'hitting', ...</td>\n",
       "      <td>mean made usa cna hitting road tell ingenuity ...</td>\n",
       "    </tr>\n",
       "    <tr>\n",
       "      <th>3048</th>\n",
       "      <td>1</td>\n",
       "      <td>['', 'html', 'head', 'meta', 'http', 'equiv', ...</td>\n",
       "      <td>html head meta http equiv content language con...</td>\n",
       "    </tr>\n",
       "    <tr>\n",
       "      <th>3049</th>\n",
       "      <td>1</td>\n",
       "      <td>['', 'html', 'body', 'tr', 'valign', 'top', 't...</td>\n",
       "      <td>html body tr valign top td height 295 bgcolor ...</td>\n",
       "    </tr>\n",
       "    <tr>\n",
       "      <th>3050</th>\n",
       "      <td>1</td>\n",
       "      <td>['', 'uncommon', 'exotic', 'pleasure', 'botani...</td>\n",
       "      <td>uncommon exotic pleasure botanical nfeeling ma...</td>\n",
       "    </tr>\n",
       "  </tbody>\n",
       "</table>\n",
       "<p>3051 rows × 3 columns</p>\n",
       "</div>"
      ],
      "text/plain": [
       "      labels                                              clean  \\\n",
       "0          0  ['', 'date', 'wed', '21', 'aug', '2002', '10',...   \n",
       "1          0  ['', 'martin', 'posted', 'ntassos', 'papadopou...   \n",
       "2          0  ['', 'man', 'threatens', 'explosion', 'moscow'...   \n",
       "3          0  ['', 'klez', 'virus', 'die', 'nalready', 'prol...   \n",
       "4          0  ['', 'wed', 'aug', '21', '2002', '15', '46', '...   \n",
       "...      ...                                                ...   \n",
       "3046       1  ['', 'stumbling', 'nthe', 'greatest', 'way', '...   \n",
       "3047       1  ['', 'mean', 'made', 'usa', 'cna', 'hitting', ...   \n",
       "3048       1  ['', 'html', 'head', 'meta', 'http', 'equiv', ...   \n",
       "3049       1  ['', 'html', 'body', 'tr', 'valign', 'top', 't...   \n",
       "3050       1  ['', 'uncommon', 'exotic', 'pleasure', 'botani...   \n",
       "\n",
       "                                                 clean1  \n",
       "0     date wed 21 aug 2002 10 54 46 0500 chris garri...  \n",
       "1     martin posted ntassos papadopoulos greek sculp...  \n",
       "2     man threatens explosion moscow nthursday augus...  \n",
       "3     klez virus die nalready prolific virus ever kl...  \n",
       "4     wed aug 21 2002 15 46 ulises ponce wrote hi co...  \n",
       "...                                                 ...  \n",
       "3046  stumbling nthe greatest way marketing century ...  \n",
       "3047  mean made usa cna hitting road tell ingenuity ...  \n",
       "3048  html head meta http equiv content language con...  \n",
       "3049  html body tr valign top td height 295 bgcolor ...  \n",
       "3050  uncommon exotic pleasure botanical nfeeling ma...  \n",
       "\n",
       "[3051 rows x 3 columns]"
      ]
     },
     "execution_count": 11,
     "metadata": {},
     "output_type": "execute_result"
    }
   ],
   "source": [
    "mail"
   ]
  },
  {
   "cell_type": "code",
   "execution_count": 12,
   "metadata": {},
   "outputs": [],
   "source": [
    "X_train, X_test, y_train, y_test = train_test_split(mail['clean1'],mail.labels,test_size=0.2, random_state=42)"
   ]
  },
  {
   "cell_type": "code",
   "execution_count": 13,
   "metadata": {},
   "outputs": [
    {
     "name": "stdout",
     "output_type": "stream",
     "text": [
      "(2440,)\n",
      "(2440,)\n",
      "(611,)\n",
      "(611,)\n"
     ]
    }
   ],
   "source": [
    "print(X_train.shape)\n",
    "print(y_train.shape)\n",
    "print(X_test.shape)\n",
    "print(y_test.shape)"
   ]
  },
  {
   "cell_type": "code",
   "execution_count": 14,
   "metadata": {},
   "outputs": [],
   "source": [
    "nb_pipeline = Pipeline([('countvect', CountVectorizer(lowercase=True)),\n",
    "                       ('mnb', MultinomialNB(alpha=0.0,class_prior=[0.4, 0.6]))])"
   ]
  },
  {
   "cell_type": "code",
   "execution_count": 15,
   "metadata": {},
   "outputs": [
    {
     "name": "stderr",
     "output_type": "stream",
     "text": [
      "/Users/tupran/opt/miniconda3/envs/ds/lib/python3.7/site-packages/sklearn/naive_bayes.py:512: UserWarning: alpha too small will result in numeric errors, setting alpha = 1.0e-10\n",
      "  'setting alpha = %.1e' % _ALPHA_MIN)\n",
      "/Users/tupran/opt/miniconda3/envs/ds/lib/python3.7/site-packages/sklearn/naive_bayes.py:512: UserWarning: alpha too small will result in numeric errors, setting alpha = 1.0e-10\n",
      "  'setting alpha = %.1e' % _ALPHA_MIN)\n",
      "/Users/tupran/opt/miniconda3/envs/ds/lib/python3.7/site-packages/sklearn/naive_bayes.py:512: UserWarning: alpha too small will result in numeric errors, setting alpha = 1.0e-10\n",
      "  'setting alpha = %.1e' % _ALPHA_MIN)\n",
      "/Users/tupran/opt/miniconda3/envs/ds/lib/python3.7/site-packages/sklearn/naive_bayes.py:512: UserWarning: alpha too small will result in numeric errors, setting alpha = 1.0e-10\n",
      "  'setting alpha = %.1e' % _ALPHA_MIN)\n",
      "/Users/tupran/opt/miniconda3/envs/ds/lib/python3.7/site-packages/sklearn/naive_bayes.py:512: UserWarning: alpha too small will result in numeric errors, setting alpha = 1.0e-10\n",
      "  'setting alpha = %.1e' % _ALPHA_MIN)\n"
     ]
    },
    {
     "name": "stdout",
     "output_type": "stream",
     "text": [
      "[0.96311475 0.9795082  0.97131148 0.98360656 0.97336066]\n"
     ]
    }
   ],
   "source": [
    "scores = cross_val_score(nb_pipeline, X_train, y_train, cv=5)\n",
    "print(scores)"
   ]
  },
  {
   "cell_type": "code",
   "execution_count": 16,
   "metadata": {},
   "outputs": [
    {
     "name": "stderr",
     "output_type": "stream",
     "text": [
      "/Users/tupran/opt/miniconda3/envs/ds/lib/python3.7/site-packages/sklearn/naive_bayes.py:512: UserWarning: alpha too small will result in numeric errors, setting alpha = 1.0e-10\n",
      "  'setting alpha = %.1e' % _ALPHA_MIN)\n"
     ]
    }
   ],
   "source": [
    "model = nb_pipeline.fit(X_train, y_train)"
   ]
  },
  {
   "cell_type": "code",
   "execution_count": 17,
   "metadata": {},
   "outputs": [],
   "source": [
    "y_pred = model.predict(X_test)"
   ]
  },
  {
   "cell_type": "code",
   "execution_count": 18,
   "metadata": {},
   "outputs": [
    {
     "data": {
      "text/plain": [
       "0.983633387888707"
      ]
     },
     "execution_count": 18,
     "metadata": {},
     "output_type": "execute_result"
    }
   ],
   "source": [
    "model.score(X_test, y_test)"
   ]
  },
  {
   "cell_type": "code",
   "execution_count": 19,
   "metadata": {},
   "outputs": [
    {
     "data": {
      "text/plain": [
       "0.983633387888707"
      ]
     },
     "execution_count": 19,
     "metadata": {},
     "output_type": "execute_result"
    }
   ],
   "source": [
    "metrics.accuracy_score(y_test, y_pred)"
   ]
  },
  {
   "cell_type": "code",
   "execution_count": 20,
   "metadata": {},
   "outputs": [
    {
     "data": {
      "text/plain": [
       "array([[516,   0],\n",
       "       [ 10,  85]])"
      ]
     },
     "execution_count": 20,
     "metadata": {},
     "output_type": "execute_result"
    }
   ],
   "source": [
    "metrics.confusion_matrix(y_test, y_pred, labels=[0,1])"
   ]
  },
  {
   "cell_type": "code",
   "execution_count": 21,
   "metadata": {},
   "outputs": [
    {
     "data": {
      "text/plain": [
       "array([0.99040307, 0.94444444])"
      ]
     },
     "execution_count": 21,
     "metadata": {},
     "output_type": "execute_result"
    }
   ],
   "source": [
    "metrics.f1_score(y_test, y_pred, average=None)"
   ]
  },
  {
   "cell_type": "code",
   "execution_count": 22,
   "metadata": {},
   "outputs": [
    {
     "data": {
      "text/plain": [
       "0.9674237577308594"
      ]
     },
     "execution_count": 22,
     "metadata": {},
     "output_type": "execute_result"
    }
   ],
   "source": [
    "metrics.f1_score(y_test, y_pred, average='macro')"
   ]
  },
  {
   "cell_type": "code",
   "execution_count": 23,
   "metadata": {},
   "outputs": [
    {
     "data": {
      "text/plain": [
       "0.983633387888707"
      ]
     },
     "execution_count": 23,
     "metadata": {},
     "output_type": "execute_result"
    }
   ],
   "source": [
    "metrics.f1_score(y_test, y_pred, average='micro')"
   ]
  },
  {
   "cell_type": "code",
   "execution_count": 24,
   "metadata": {},
   "outputs": [
    {
     "data": {
      "text/plain": [
       "0.9832572943815644"
      ]
     },
     "execution_count": 24,
     "metadata": {},
     "output_type": "execute_result"
    }
   ],
   "source": [
    "metrics.f1_score(y_test, y_pred, average='weighted')"
   ]
  },
  {
   "cell_type": "code",
   "execution_count": 25,
   "metadata": {},
   "outputs": [
    {
     "data": {
      "text/plain": [
       "2679    result feedback form submitted jamie msn com t...\n",
       "3050    uncommon exotic pleasure botanical nfeeling ma...\n",
       "2859    3672cxjk2 471rlyh4856dcwl9 357kcvy4323scva9 71...\n",
       "2829    xc2 x93connecting business world wide web xc2 ...\n",
       "2752    greeting nyou receiving letter expressed inter...\n",
       "2783    dear sir nmy name dr steven duba son mr theo n...\n",
       "2931    love nworld capital group group funding source...\n",
       "2784    hi job seeker nwhen create free net temp accou...\n",
       "2805    nsent mail message nfrom enenkio webtv net rob...\n",
       "2921    nhallo ni found email id directoric ni russian...\n",
       "Name: clean1, dtype: object"
      ]
     },
     "execution_count": 25,
     "metadata": {},
     "output_type": "execute_result"
    }
   ],
   "source": [
    "X_test[y_test > y_pred]"
   ]
  },
  {
   "cell_type": "code",
   "execution_count": 26,
   "metadata": {},
   "outputs": [
    {
     "data": {
      "text/plain": [
       "Series([], Name: clean1, dtype: object)"
      ]
     },
     "execution_count": 26,
     "metadata": {},
     "output_type": "execute_result"
    }
   ],
   "source": [
    "X_test[y_test < y_pred]"
   ]
  },
  {
   "cell_type": "code",
   "execution_count": 27,
   "metadata": {},
   "outputs": [],
   "source": [
    "nb_pipeline_tf = Pipeline([('tfidfvect', TfidfVectorizer()),\n",
    "                       ('mnb', MultinomialNB(alpha=0.0,class_prior=[0.4, 0.6]))])"
   ]
  },
  {
   "cell_type": "code",
   "execution_count": 28,
   "metadata": {},
   "outputs": [
    {
     "name": "stderr",
     "output_type": "stream",
     "text": [
      "/Users/tupran/opt/miniconda3/envs/ds/lib/python3.7/site-packages/sklearn/naive_bayes.py:512: UserWarning: alpha too small will result in numeric errors, setting alpha = 1.0e-10\n",
      "  'setting alpha = %.1e' % _ALPHA_MIN)\n",
      "/Users/tupran/opt/miniconda3/envs/ds/lib/python3.7/site-packages/sklearn/naive_bayes.py:512: UserWarning: alpha too small will result in numeric errors, setting alpha = 1.0e-10\n",
      "  'setting alpha = %.1e' % _ALPHA_MIN)\n",
      "/Users/tupran/opt/miniconda3/envs/ds/lib/python3.7/site-packages/sklearn/naive_bayes.py:512: UserWarning: alpha too small will result in numeric errors, setting alpha = 1.0e-10\n",
      "  'setting alpha = %.1e' % _ALPHA_MIN)\n",
      "/Users/tupran/opt/miniconda3/envs/ds/lib/python3.7/site-packages/sklearn/naive_bayes.py:512: UserWarning: alpha too small will result in numeric errors, setting alpha = 1.0e-10\n",
      "  'setting alpha = %.1e' % _ALPHA_MIN)\n",
      "/Users/tupran/opt/miniconda3/envs/ds/lib/python3.7/site-packages/sklearn/naive_bayes.py:512: UserWarning: alpha too small will result in numeric errors, setting alpha = 1.0e-10\n",
      "  'setting alpha = %.1e' % _ALPHA_MIN)\n"
     ]
    },
    {
     "name": "stdout",
     "output_type": "stream",
     "text": [
      "[0.97131148 0.98770492 0.9795082  0.98565574 0.97745902]\n"
     ]
    }
   ],
   "source": [
    "scores = cross_val_score(nb_pipeline_tf, X_train, y_train, cv=5)\n",
    "print(scores)"
   ]
  },
  {
   "cell_type": "code",
   "execution_count": 29,
   "metadata": {},
   "outputs": [
    {
     "name": "stderr",
     "output_type": "stream",
     "text": [
      "/Users/tupran/opt/miniconda3/envs/ds/lib/python3.7/site-packages/sklearn/naive_bayes.py:512: UserWarning: alpha too small will result in numeric errors, setting alpha = 1.0e-10\n",
      "  'setting alpha = %.1e' % _ALPHA_MIN)\n"
     ]
    }
   ],
   "source": [
    "tfmodel = nb_pipeline_tf.fit(X_train, y_train)"
   ]
  },
  {
   "cell_type": "code",
   "execution_count": 30,
   "metadata": {},
   "outputs": [],
   "source": [
    "y_pred_tf = tfmodel.predict(X_test)"
   ]
  },
  {
   "cell_type": "code",
   "execution_count": 31,
   "metadata": {},
   "outputs": [
    {
     "data": {
      "text/plain": [
       "0.9852700490998363"
      ]
     },
     "execution_count": 31,
     "metadata": {},
     "output_type": "execute_result"
    }
   ],
   "source": [
    "metrics.accuracy_score(y_test, y_pred_tf)"
   ]
  },
  {
   "cell_type": "code",
   "execution_count": 32,
   "metadata": {},
   "outputs": [
    {
     "data": {
      "text/plain": [
       "array([[516,   0],\n",
       "       [  9,  86]])"
      ]
     },
     "execution_count": 32,
     "metadata": {},
     "output_type": "execute_result"
    }
   ],
   "source": [
    "metrics.confusion_matrix(y_test, y_pred_tf, labels=[0,1])"
   ]
  },
  {
   "cell_type": "code",
   "execution_count": 33,
   "metadata": {},
   "outputs": [
    {
     "data": {
      "text/plain": [
       "array([0.99040307, 0.94444444])"
      ]
     },
     "execution_count": 33,
     "metadata": {},
     "output_type": "execute_result"
    }
   ],
   "source": [
    "metrics.f1_score(y_test, y_pred, average=None)"
   ]
  },
  {
   "cell_type": "code",
   "execution_count": 34,
   "metadata": {},
   "outputs": [
    {
     "data": {
      "text/plain": [
       "0.983633387888707"
      ]
     },
     "execution_count": 34,
     "metadata": {},
     "output_type": "execute_result"
    }
   ],
   "source": [
    "metrics.f1_score(y_test, y_pred, average='micro')"
   ]
  },
  {
   "cell_type": "code",
   "execution_count": 35,
   "metadata": {},
   "outputs": [
    {
     "data": {
      "text/plain": [
       "0.9674237577308594"
      ]
     },
     "execution_count": 35,
     "metadata": {},
     "output_type": "execute_result"
    }
   ],
   "source": [
    "metrics.f1_score(y_test, y_pred, average='macro')"
   ]
  },
  {
   "cell_type": "code",
   "execution_count": 36,
   "metadata": {},
   "outputs": [
    {
     "data": {
      "text/plain": [
       "0.9832572943815644"
      ]
     },
     "execution_count": 36,
     "metadata": {},
     "output_type": "execute_result"
    }
   ],
   "source": [
    "metrics.f1_score(y_test, y_pred, average='weighted')"
   ]
  },
  {
   "cell_type": "code",
   "execution_count": 37,
   "metadata": {},
   "outputs": [
    {
     "data": {
      "text/plain": [
       "2679    result feedback form submitted jamie msn com t...\n",
       "3050    uncommon exotic pleasure botanical nfeeling ma...\n",
       "2859    3672cxjk2 471rlyh4856dcwl9 357kcvy4323scva9 71...\n",
       "2829    xc2 x93connecting business world wide web xc2 ...\n",
       "2783    dear sir nmy name dr steven duba son mr theo n...\n",
       "2931    love nworld capital group group funding source...\n",
       "2784    hi job seeker nwhen create free net temp accou...\n",
       "2805    nsent mail message nfrom enenkio webtv net rob...\n",
       "2921    nhallo ni found email id directoric ni russian...\n",
       "Name: clean1, dtype: object"
      ]
     },
     "execution_count": 37,
     "metadata": {},
     "output_type": "execute_result"
    }
   ],
   "source": [
    "X_test[y_test > y_pred_tf]"
   ]
  },
  {
   "cell_type": "code",
   "execution_count": 38,
   "metadata": {},
   "outputs": [
    {
     "data": {
      "text/plain": [
       "Series([], Name: clean1, dtype: object)"
      ]
     },
     "execution_count": 38,
     "metadata": {},
     "output_type": "execute_result"
    }
   ],
   "source": [
    "X_test[y_test < y_pred_tf]"
   ]
  },
  {
   "cell_type": "code",
   "execution_count": 39,
   "metadata": {},
   "outputs": [],
   "source": [
    "test = ['Get started like a pro | Ultimaker Get started like a pro Having trouble viewing this email? Click here . Hi Shailesh, More and more companies are becoming convinced that 3D printing  plays a key role in their digital transformation roadmap. But what would life at  look like if you adopted 3D printing? Where would you and your team start? To give you an idea, check out our 5 top tips to ramp-up 3D printing production. Read the blog Ultimaker - Corporate Headquarters Stationsplein 32, 3511 ED Utrecht, The Netherlands Email: info@ultimaker.com Phone: +31 88 383 4000 If youâd rather not receive these updates,']"
   ]
  },
  {
   "cell_type": "code",
   "execution_count": 40,
   "metadata": {},
   "outputs": [
    {
     "data": {
      "text/plain": [
       "<1x33994 sparse matrix of type '<class 'numpy.int64'>'\n",
       "\twith 46 stored elements in Compressed Sparse Row format>"
      ]
     },
     "execution_count": 40,
     "metadata": {},
     "output_type": "execute_result"
    }
   ],
   "source": [
    "nb_pipeline.named_steps['countvect'].transform(test)"
   ]
  },
  {
   "cell_type": "code",
   "execution_count": 41,
   "metadata": {},
   "outputs": [
    {
     "data": {
      "text/plain": [
       "array([0])"
      ]
     },
     "execution_count": 41,
     "metadata": {},
     "output_type": "execute_result"
    }
   ],
   "source": [
    "nb_pipeline.predict(test)"
   ]
  },
  {
   "cell_type": "code",
   "execution_count": 42,
   "metadata": {},
   "outputs": [],
   "source": [
    "inbox = pd.read_csv('inBox.csv')"
   ]
  },
  {
   "cell_type": "code",
   "execution_count": 49,
   "metadata": {},
   "outputs": [
    {
     "data": {
      "text/plain": [
       "0     Our latest project allows you to visualize dat...\n",
       "1     Can you answer this question? As someone who a...\n",
       "2     Good News for ATM Card Holders In view of anno...\n",
       "3     Dear Learners Join us for a brand new lecture ...\n",
       "4     Hello students and teachers, Hope all of you a...\n",
       "5     Dear Learners Join us for a brand new lecture ...\n",
       "6     Dear Learners Join us for a brand new lecture ...\n",
       "7     Dear Learners, Join us for a brand new lecture...\n",
       "8     Dear Learners, Join us for a brand new lecture...\n",
       "9     Dear Learners We are pleased to announce an on...\n",
       "10    https://vc.lidolearning.com?id=300d47a1-dc9a-4...\n",
       "11    IBM Developer - Artificial Intelligence This m...\n",
       "12    Convert to containers while you migrate.\\r\\n\\t...\n",
       "13    How to find the right data for your projects A...\n",
       "14    Four ways to add data to your projects In addi...\n",
       "15    Ready to learn something new? ... Recommendati...\n",
       "Name: Message, dtype: object"
      ]
     },
     "execution_count": 49,
     "metadata": {},
     "output_type": "execute_result"
    }
   ],
   "source": [
    "test = inbox['Message']\n",
    "test"
   ]
  },
  {
   "cell_type": "code",
   "execution_count": 50,
   "metadata": {},
   "outputs": [
    {
     "data": {
      "text/plain": [
       "<16x33994 sparse matrix of type '<class 'numpy.int64'>'\n",
       "\twith 1106 stored elements in Compressed Sparse Row format>"
      ]
     },
     "execution_count": 50,
     "metadata": {},
     "output_type": "execute_result"
    }
   ],
   "source": [
    "nb_pipeline.named_steps['countvect'].transform(test)"
   ]
  },
  {
   "cell_type": "code",
   "execution_count": 51,
   "metadata": {},
   "outputs": [
    {
     "data": {
      "text/plain": [
       "array([0, 0, 0, 0, 0, 0, 0, 0, 0, 0, 0, 0, 0, 0, 0, 0])"
      ]
     },
     "execution_count": 51,
     "metadata": {},
     "output_type": "execute_result"
    }
   ],
   "source": [
    "nb_pipeline.predict(test)"
   ]
  },
  {
   "cell_type": "code",
   "execution_count": 52,
   "metadata": {},
   "outputs": [
    {
     "data": {
      "text/plain": [
       "<16x33994 sparse matrix of type '<class 'numpy.float64'>'\n",
       "\twith 1106 stored elements in Compressed Sparse Row format>"
      ]
     },
     "execution_count": 52,
     "metadata": {},
     "output_type": "execute_result"
    }
   ],
   "source": [
    "nb_pipeline_tf.named_steps['tfidfvect'].transform(test)"
   ]
  },
  {
   "cell_type": "code",
   "execution_count": 53,
   "metadata": {},
   "outputs": [
    {
     "data": {
      "text/plain": [
       "array([0, 0, 0, 0, 0, 0, 0, 0, 0, 0, 1, 0, 0, 0, 0, 0])"
      ]
     },
     "execution_count": 53,
     "metadata": {},
     "output_type": "execute_result"
    }
   ],
   "source": [
    "nb_pipeline_tf.predict(test)"
   ]
  },
  {
   "cell_type": "code",
   "execution_count": 55,
   "metadata": {},
   "outputs": [
    {
     "data": {
      "text/plain": [
       "\"IBM Developer - Artificial Intelligence This message contains graphics.  If you do not see the graphics, click here to view . IBM \\u200c\\xa0\\u200c\\xa0\\u200c\\xa0\\u200c\\xa0\\u200c\\xa0\\u200c\\xa0\\u200c\\xa0\\u200c\\xa0\\u200c\\xa0\\u200c\\xa0\\u200c\\xa0\\u200c\\xa0\\u200c IBM Developer Artificial Intelligence April 2020 Hello, AI enthusiasts! The 2020 Call for Code Global Challenge is up and running. Once again, developers around the globe will submit coding solutions that can bring relief to those most in need. This year's Challenge takes on both climate change and COVID-19, two urgent crises facing our world today. Join the 2020 Coding Challenge, and put your ideas into the world. You may even see your code turned into a technology that changes lives. Will you accept the challenge? Visit the AI hub Watson Knowledge Studio: Advanced Rules Editor Watch the video Spotlights Get started with the Data Asset eXchange DAX offers a trusted source for open data sets for AI that are ready to use in enterprise AI applications. Take the tutorial Build a chatbot using the Watson Assistant search skill Enhance customer helpdesks with Smart Document Understanding using the Watson Assistant search skill. Follow the code pattern Useful data sets for Call for Code Get an introduction to open data sets and the importance of metadata. Read the blog Kubeflow 1.0: An open source journey towards end-to-end enterprise machine learning Explore this machine learning toolkit for Kubernetes and OpenShift. Read the blog Events Create a ChatBot with Watson Assistant + Voice + Search Skill April 23; Zurich, Switzerland Learn more Predict The Future With IBM Watson AutoAI April 30; Online Learn more IBM Think Digital Event Experience May 5-7; Online Learn more We’d love to hear from you! At IBM Developer, we’re dedicated to improving your experience. If you have comments about this newsletter please, leave us feedback Manage your subscription Forward to a friend developer.ibm.com © IBM Corporation 2020. IBM, the IBM logo, IBM Cloud™ and ibm.com are trademarks of the International Business Machines Corp., registered in many jurisdictions worldwide. This newsletter is current as of the initial date of publication and might change at any time. Not all offerings are available in every country in which IBM operates. If you’d like IBM to refrain from sending you similar e-mails in the future, please Click here . You can also mail a written request to IBM US at: IBM Corporation, 11\\u200c50\\u200c1 Burnet Rd, Bldg 90\\u200c4 3\\u200cB-00\\u200c0, Austin, TX 78\\u200c75\\u200c8\""
      ]
     },
     "execution_count": 55,
     "metadata": {},
     "output_type": "execute_result"
    }
   ],
   "source": [
    "test[11]"
   ]
  }
 ],
 "metadata": {
  "kernelspec": {
   "display_name": "Python 3",
   "language": "python",
   "name": "python3"
  },
  "language_info": {
   "codemirror_mode": {
    "name": "ipython",
    "version": 3
   },
   "file_extension": ".py",
   "mimetype": "text/x-python",
   "name": "python",
   "nbconvert_exporter": "python",
   "pygments_lexer": "ipython3",
   "version": "3.7.8"
  }
 },
 "nbformat": 4,
 "nbformat_minor": 4
}
